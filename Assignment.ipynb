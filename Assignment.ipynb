{
 "cells": [
  {
   "cell_type": "markdown",
   "id": "e7a6d520-cc58-4cc6-9c5d-2c723ce1efd1",
   "metadata": {},
   "source": [
    "# My Assignment"
   ]
  },
  {
   "cell_type": "markdown",
   "id": "47316879-5b06-42e2-aa6b-eca5c0fddbe8",
   "metadata": {},
   "source": [
    "This is my jupyter notebook graded assignment."
   ]
  },
  {
   "cell_type": "markdown",
   "id": "5573a429-21b3-4fac-b01c-1ed903399a5d",
   "metadata": {},
   "source": [
    "1. Python\n",
    "2. R "
   ]
  },
  {
   "cell_type": "markdown",
   "id": "dfd541ed-4f95-43ed-adba-2881f2517879",
   "metadata": {},
   "source": [
    "1. Pandas\n",
    "2. NumPy"
   ]
  },
  {
   "cell_type": "markdown",
   "id": "d9230331-77e6-40fe-862a-51080ed69858",
   "metadata": {},
   "source": [
    "|      Tools     |\n",
    "|----------------|\n",
    "|   Apache Spark |\n",
    "|   MATLAB       |"
   ]
  },
  {
   "cell_type": "markdown",
   "id": "712ef3c9-4999-4845-8f8f-433bcec3adb5",
   "metadata": {},
   "source": [
    "### Performing arithmetic expressions"
   ]
  },
  {
   "cell_type": "code",
   "execution_count": 4,
   "id": "f1c38068-f512-4697-ac48-7253355c9ebe",
   "metadata": {},
   "outputs": [
    {
     "name": "stdout",
     "output_type": "stream",
     "text": [
      "6\n",
      "5\n"
     ]
    }
   ],
   "source": [
    "num_1 = 2\n",
    "num_2 = 3\n",
    "product = num_1 * num_2\n",
    "add = num_1 + num_2\n",
    "print(product)\n",
    "print(add)"
   ]
  },
  {
   "cell_type": "code",
   "execution_count": 6,
   "id": "5e363b3c-ed16-4738-a999-ce7afa866943",
   "metadata": {},
   "outputs": [
    {
     "name": "stdout",
     "output_type": "stream",
     "text": [
      "6\n"
     ]
    }
   ],
   "source": [
    "minutes = 360\n",
    "hours = minutes // 60\n",
    "print(hours)"
   ]
  },
  {
   "cell_type": "markdown",
   "id": "6dfc115f-8ccd-408c-9539-f48b13302717",
   "metadata": {},
   "source": [
    "1. Objective\n",
    "     1. Study\n",
    "     2. Grow"
   ]
  },
  {
   "cell_type": "markdown",
   "id": "18a14b0e-27b1-448b-aa02-b7641b661242",
   "metadata": {},
   "source": [
    "**Author - Ayush**"
   ]
  },
  {
   "cell_type": "code",
   "execution_count": null,
   "id": "8c49022b-9f51-497f-a3ef-b3dbd755d6ee",
   "metadata": {},
   "outputs": [],
   "source": []
  }
 ],
 "metadata": {
  "kernelspec": {
   "display_name": "Python",
   "language": "python",
   "name": "conda-env-python-py"
  },
  "language_info": {
   "codemirror_mode": {
    "name": "ipython",
    "version": 3
   },
   "file_extension": ".py",
   "mimetype": "text/x-python",
   "name": "python",
   "nbconvert_exporter": "python",
   "pygments_lexer": "ipython3",
   "version": "3.7.12"
  }
 },
 "nbformat": 4,
 "nbformat_minor": 5
}
